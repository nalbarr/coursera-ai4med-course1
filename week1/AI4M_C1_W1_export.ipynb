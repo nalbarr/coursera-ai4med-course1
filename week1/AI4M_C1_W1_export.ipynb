{
 "cells": [
  {
   "cell_type": "code",
   "execution_count": 1,
   "metadata": {},
   "outputs": [
    {
     "name": "stdout",
     "output_type": "stream",
     "text": [
      "AI4M_C1_W1_export.ipynb\t\tAI4M_C1_W1_lecture.ipynb  __pycache__\r\n",
      "AI4M_C1_W1_lecture_ex_01.ipynb\tC1M1_Assignment.ipynb\t  util.py\r\n",
      "AI4M_C1_W1_lecture_ex_02.ipynb\tfoo\t\t\t  xray-header-image.png\r\n",
      "AI4M_C1_W1_lecture_ex_03.ipynb\timages-small.tar.gz\r\n",
      "AI4M_C1_W1_lecture_ex_04.ipynb\tnih\r\n"
     ]
    }
   ],
   "source": [
    "!ls"
   ]
  },
  {
   "cell_type": "code",
   "execution_count": 2,
   "metadata": {},
   "outputs": [
    {
     "name": "stdout",
     "output_type": "stream",
     "text": [
      "densenet.hdf5  pretrained_model.h5  train-small.csv\r\n",
      "images-small   test.csv\t\t    valid-small.csv\r\n"
     ]
    }
   ],
   "source": [
    "!ls nih"
   ]
  },
  {
   "cell_type": "code",
   "execution_count": null,
   "metadata": {},
   "outputs": [],
   "source": [
    "# ai4m_c1_w1_export.py\n",
    "\n",
    "import glob, zipfile, os, os.path\n",
    "\n",
    "def get_filepaths():\n",
    "    notebooks_path = os.path.join('.', \"*.ipynb\")\n",
    "    notebooks = glob.glob(notebooks_path)\n",
    "    \n",
    "    sources_path = os.path.join('.', '*.py')\n",
    "    sources_path = os.path.join('.', '*.png')\n",
    "    sources = glob.glob(sources_path)\n",
    "        \n",
    "    # NAA.  No datasets.\n",
    "    datasets_path = os.path.join('.', 'nih/*.csv')\n",
    "    datasets_path = os.path.join('.', 'nih/*.h5')\n",
    "    datasets_path = os.path.join('.', 'nih/*.hdf5')\n",
    "    datasets = glob.glob(datasets_path)\n",
    "    \n",
    "    images_path = os.path.join('.', 'nih/images-small', '*.*')\n",
    "    images = glob.glob(images_path)\n",
    "\n",
    "    #print (type(datasets))\n",
    "    #print(\"datasets: \" + str(datasets))\n",
    "    #print(\"images: \" + str(images))\n",
    "\n",
    "    filepaths = notebooks + sources + datasets + images\n",
    "    if (debug):\n",
    "        print(\"filepaths: \" + str(filepaths))\n",
    "    return filepaths\n",
    "    \n",
    "def export_files(zipfilename):\n",
    "    filepaths = get_filepaths()\n",
    "    \n",
    "    if (debug):\n",
    "        with zipfile.ZipFile(zipfilename, 'w') as myzip:\n",
    "            for f in filepaths:\n",
    "                print(\"f: \" + f)\n",
    "                myzip.write(f)\n",
    "\n",
    "def check_export_file(zipfilename):\n",
    "    if (os.path.isfile(zipfilename)):\n",
    "        print(\"Export successful.\")\n",
    "                \n",
    "# main\n",
    "zipfilename = os.path.join(\".\", \"ai4m_c1_w1_export.zip\")\n",
    "debug=True\n",
    "export_files(zipfilename)\n",
    "check_export_file(zipfilename)"
   ]
  },
  {
   "cell_type": "code",
   "execution_count": null,
   "metadata": {},
   "outputs": [],
   "source": [
    "!ls *.zip"
   ]
  },
  {
   "cell_type": "code",
   "execution_count": null,
   "metadata": {},
   "outputs": [],
   "source": []
  }
 ],
 "metadata": {
  "kernelspec": {
   "display_name": "Python 3",
   "language": "python",
   "name": "python3"
  },
  "language_info": {
   "codemirror_mode": {
    "name": "ipython",
    "version": 3
   },
   "file_extension": ".py",
   "mimetype": "text/x-python",
   "name": "python",
   "nbconvert_exporter": "python",
   "pygments_lexer": "ipython3",
   "version": "3.6.3"
  }
 },
 "nbformat": 4,
 "nbformat_minor": 2
}
